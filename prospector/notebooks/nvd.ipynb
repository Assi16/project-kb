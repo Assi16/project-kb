{
 "cells": [
  {
   "cell_type": "code",
   "execution_count": null,
   "source": [
    "import requests\n",
    "import json\n",
    "from tqdm import tqdm\n",
    "from urllib.parse import urlparse\n",
    "\n",
    "\n",
    "%cd ..\n",
    "from datamodel.advisory import AdvisoryRecord\n"
   ],
   "outputs": [],
   "metadata": {}
  },
  {
   "cell_type": "code",
   "execution_count": null,
   "source": [
    "NVD_API= \"http://localhost:8000/nvd/vulnerabilities/\"\n",
    "\n",
    "YEAR = \"2019\""
   ],
   "outputs": [],
   "metadata": {}
  },
  {
   "cell_type": "code",
   "execution_count": null,
   "source": [
    "response = requests.get(NVD_API + \"by-year/\" + YEAR)\n",
    "vuln_ids = json.loads(response.text)['data'][:200]"
   ],
   "outputs": [],
   "metadata": {}
  },
  {
   "cell_type": "code",
   "execution_count": null,
   "source": [
    "count = 0\n",
    "for vulnerability_id in tqdm(vuln_ids):\n",
    "    # vuln_data = requests.get(NVD_API + vulnerability_id)\n",
    "    advisory_record = AdvisoryRecord( vulnerability_id=vulnerability_id)\n",
    "    advisory_record.analyze(use_nvd=True)\n",
    "    # records.append(advisory_record)\n",
    "\n",
    "    \n",
    "    if advisory_record.license == 'UNKNOWN':\n",
    "        count += 1\n",
    "        # print('.', end='')\n",
    "        print(advisory_record.vulnerability_id)\n",
    "        print(advisory_record.description[:120])\n",
    "        # print(advisory_record.license)\n",
    "    # for r in advisory_record.references:\n",
    "    #     references.add(urlparse(r).hostname)\n",
    "\n",
    "# print(references)"
   ],
   "outputs": [],
   "metadata": {}
  },
  {
   "cell_type": "code",
   "execution_count": null,
   "source": [
    "count"
   ],
   "outputs": [],
   "metadata": {}
  }
 ],
 "metadata": {
  "orig_nbformat": 4,
  "language_info": {
   "name": "python",
   "version": "3.8.0",
   "mimetype": "text/x-python",
   "codemirror_mode": {
    "name": "ipython",
    "version": 3
   },
   "pygments_lexer": "ipython3",
   "nbconvert_exporter": "python",
   "file_extension": ".py"
  },
  "kernelspec": {
   "name": "python3",
   "display_name": "Python 3.8.0 64-bit ('prospector-C4A5icFp': pipenv)"
  },
  "interpreter": {
   "hash": "b8eed6375e759212d21dcc1b7f30a6ef0ccc73330010cc5f59ec648ae8c820df"
  }
 },
 "nbformat": 4,
 "nbformat_minor": 2
}
