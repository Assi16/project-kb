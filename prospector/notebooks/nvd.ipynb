{
 "cells": [
  {
   "cell_type": "code",
   "execution_count": 1,
   "source": [
    "import requests\n",
    "import json\n",
    "from tqdm import tqdm\n",
    "from urllib.parse import urlparse\n",
    "\n",
    "\n",
    "%cd ..\n",
    "from datamodel.advisory import AdvisoryRecord\n"
   ],
   "outputs": [
    {
     "output_type": "stream",
     "name": "stdout",
     "text": [
      "/home/i064196/Documents/10_working/project-kb/src-github/prospector\n"
     ]
    }
   ],
   "metadata": {}
  },
  {
   "cell_type": "code",
   "execution_count": 2,
   "source": [
    "NVD_API= \"http://localhost:8000/nvd/vulnerabilities/\"\n",
    "\n",
    "YEAR = \"2019\""
   ],
   "outputs": [],
   "metadata": {}
  },
  {
   "cell_type": "code",
   "execution_count": 3,
   "source": [
    "# response = requests.get(NVD_API + \"by-year/\" + YEAR)\n",
    "# vuln_ids = json.loads(response.text)['data'][:200]"
   ],
   "outputs": [],
   "metadata": {}
  },
  {
   "cell_type": "code",
   "execution_count": 4,
   "source": [
    "with open('notebooks/projectkb_vulns.txt') as f:\n",
    "    vuln_ids = f.read().splitlines()\n",
    "\n",
    "# print(vuln_ids)"
   ],
   "outputs": [],
   "metadata": {}
  },
  {
   "cell_type": "code",
   "execution_count": 32,
   "source": [
    "import os\n",
    "import yaml\n",
    "\n",
    "PROJECT_KB_STMT_DIR=\"/tmp/statements\"\n",
    "\n",
    "def extract_projectkb_data() -> \"list[AdvisoryRecord]\":\n",
    "    repositories=set()\n",
    "    for s in tqdm(os.listdir(PROJECT_KB_STMT_DIR)):\n",
    "        if os.path.isdir(os.path.join(PROJECT_KB_STMT_DIR,s)):\n",
    "            with open(os.path.join(PROJECT_KB_STMT_DIR, s,'statement.yaml'), 'r') as f:\n",
    "                stmt_data = yaml.load(f)\n",
    "                if 'fixes' in stmt_data:\n",
    "                    repositories.add(stmt_data['fixes'][0]['commits'][0]['repository'])\n",
    "    \n",
    "    return repositories\n",
    "\n",
    "repositories = extract_projectkb_data()\n",
    "len(repositories)"
   ],
   "outputs": [
    {
     "output_type": "stream",
     "name": "stderr",
     "text": [
      "  0%|          | 0/724 [00:00<?, ?it/s]/tmp/ipykernel_21085/1254710857.py:11: YAMLLoadWarning: calling yaml.load() without Loader=... is deprecated, as the default Loader is unsafe. Please read https://msg.pyyaml.org/load for full details.\n",
      "  stmt_data = yaml.load(f)\n",
      "100%|██████████| 724/724 [00:08<00:00, 80.64it/s]\n"
     ]
    },
    {
     "output_type": "execute_result",
     "data": {
      "text/plain": [
       "254"
      ]
     },
     "metadata": {},
     "execution_count": 32
    }
   ],
   "metadata": {}
  },
  {
   "cell_type": "code",
   "execution_count": 33,
   "source": [
    "repositories"
   ],
   "outputs": [
    {
     "output_type": "execute_result",
     "data": {
      "text/plain": [
       "{'https://android.googlesource.com/platform//external/conscrypt.git',\n",
       " 'https://android.googlesource.com/platform/frameworks/base.git',\n",
       " 'https://android.googlesource.com/platform/frameworks/opt/telephony.git',\n",
       " 'https://android.googlesource.com/platform/packages/apps/Exchange.git',\n",
       " 'https://git-wip-us.apache.org/repos/asf/activemq-apollo.git',\n",
       " 'https://git-wip-us.apache.org/repos/asf/activemq.git',\n",
       " 'https://git-wip-us.apache.org/repos/asf/camel.git',\n",
       " 'https://git-wip-us.apache.org/repos/asf/cxf.git',\n",
       " 'https://git-wip-us.apache.org/repos/asf/lucene-solr',\n",
       " 'https://git-wip-us.apache.org/repos/asf/tapestry-5.git.git',\n",
       " 'https://git-wip-us.apache.org/repos/asf/tomee.git',\n",
       " 'https://gitbox.apache.org/repos/asf/activemq.git',\n",
       " 'https://gitbox.apache.org/repos/asf/ambari.git',\n",
       " 'https://gitbox.apache.org/repos/asf/cordova-plugin-file-transfer.git',\n",
       " 'https://gitbox.apache.org/repos/asf/cxf-fediz.git',\n",
       " 'https://gitbox.apache.org/repos/asf/cxf.git',\n",
       " 'https://gitbox.apache.org/repos/asf/hbase.git',\n",
       " 'https://gitbox.apache.org/repos/asf/hive.git',\n",
       " 'https://gitbox.apache.org/repos/asf/struts.git',\n",
       " 'https://gitbox.apache.org/repos/asf/tapestry-5',\n",
       " 'https://github.com/AsyncHttpClient/async-http-client',\n",
       " 'https://github.com/Bedework/bw-webdav',\n",
       " 'https://github.com/BigBadaboom/androidsvg',\n",
       " 'https://github.com/DSpace/DSpace',\n",
       " 'https://github.com/ESAPI/esapi-java-legacy',\n",
       " 'https://github.com/FasterXML/jackson-databind',\n",
       " 'https://github.com/FasterXML/jackson-dataformat-xml',\n",
       " 'https://github.com/FasterXML/jackson-modules-java8',\n",
       " 'https://github.com/JetBrains/MPS',\n",
       " 'https://github.com/Netflix/conductor',\n",
       " 'https://github.com/Netflix/titus-control-plane',\n",
       " 'https://github.com/OWASP/json-sanitizer',\n",
       " 'https://github.com/OpenRefine/OpenRefine',\n",
       " 'https://github.com/OpenTSDB/opentsdb',\n",
       " 'https://github.com/Silverpeas/Silverpeas-Core',\n",
       " 'https://github.com/SmartBear/soapui',\n",
       " 'https://github.com/SonarSource/sonarqube',\n",
       " 'https://github.com/SvenEwald/xmlbeam',\n",
       " 'https://github.com/TooTallNate/Java-WebSocket',\n",
       " 'https://github.com/Wechat-Group/WxJava',\n",
       " 'https://github.com/airsonic/airsonic',\n",
       " 'https://github.com/alibaba/fastjson',\n",
       " 'https://github.com/apache/activemq',\n",
       " 'https://github.com/apache/activemq-artemis',\n",
       " 'https://github.com/apache/activemq.git',\n",
       " 'https://github.com/apache/ant',\n",
       " 'https://github.com/apache/archiva',\n",
       " 'https://github.com/apache/atlas',\n",
       " 'https://github.com/apache/beam',\n",
       " 'https://github.com/apache/brooklyn-server',\n",
       " 'https://github.com/apache/camel',\n",
       " 'https://github.com/apache/camel.git',\n",
       " 'https://github.com/apache/cassandra',\n",
       " 'https://github.com/apache/cayenne',\n",
       " 'https://github.com/apache/commons-beanutils',\n",
       " 'https://github.com/apache/commons-compress',\n",
       " 'https://github.com/apache/commons-configuration',\n",
       " 'https://github.com/apache/commons-imaging',\n",
       " 'https://github.com/apache/commons-io',\n",
       " 'https://github.com/apache/cordova-android',\n",
       " 'https://github.com/apache/cxf',\n",
       " 'https://github.com/apache/cxf-fediz',\n",
       " 'https://github.com/apache/cxf-fediz.git',\n",
       " 'https://github.com/apache/cxf.git',\n",
       " 'https://github.com/apache/deltaspike',\n",
       " 'https://github.com/apache/directory-ldap-api',\n",
       " 'https://github.com/apache/druid',\n",
       " 'https://github.com/apache/flex-blazeds',\n",
       " 'https://github.com/apache/flink',\n",
       " 'https://github.com/apache/geode',\n",
       " 'https://github.com/apache/groovy',\n",
       " 'https://github.com/apache/groovy.git',\n",
       " 'https://github.com/apache/hadoop',\n",
       " 'https://github.com/apache/hadoop.git',\n",
       " 'https://github.com/apache/hbase',\n",
       " 'https://github.com/apache/hive',\n",
       " 'https://github.com/apache/httpcomponents-client',\n",
       " 'https://github.com/apache/ignite',\n",
       " 'https://github.com/apache/incubator-iotdb',\n",
       " 'https://github.com/apache/jspwiki',\n",
       " 'https://github.com/apache/kafka',\n",
       " 'https://github.com/apache/karaf',\n",
       " 'https://github.com/apache/kylin',\n",
       " 'https://github.com/apache/logging-log4j2',\n",
       " 'https://github.com/apache/lucene-solr',\n",
       " 'https://github.com/apache/mina',\n",
       " 'https://github.com/apache/myfaces',\n",
       " 'https://github.com/apache/nifi',\n",
       " 'https://github.com/apache/olingo-odata4',\n",
       " 'https://github.com/apache/oozie',\n",
       " 'https://github.com/apache/openmeetings',\n",
       " 'https://github.com/apache/orc',\n",
       " 'https://github.com/apache/poi',\n",
       " 'https://github.com/apache/portals-pluto',\n",
       " 'https://github.com/apache/qpid-broker-j',\n",
       " 'https://github.com/apache/ranger',\n",
       " 'https://github.com/apache/rocketmq',\n",
       " 'https://github.com/apache/roller',\n",
       " 'https://github.com/apache/shiro',\n",
       " 'https://github.com/apache/skywalking',\n",
       " 'https://github.com/apache/spark',\n",
       " 'https://github.com/apache/storm',\n",
       " 'https://github.com/apache/struts',\n",
       " 'https://github.com/apache/struts.git',\n",
       " 'https://github.com/apache/syncope',\n",
       " 'https://github.com/apache/tika',\n",
       " 'https://github.com/apache/tomcat',\n",
       " 'https://github.com/apache/tomcat/',\n",
       " 'https://github.com/apache/tomee',\n",
       " 'https://github.com/apache/uima-uimaj',\n",
       " 'https://github.com/apache/unomi',\n",
       " 'https://github.com/apache/wicket',\n",
       " 'https://github.com/apache/wicket.git',\n",
       " 'https://github.com/apache/xerces2-j',\n",
       " 'https://github.com/apache/xmlgraphics-batik',\n",
       " 'https://github.com/apache/zeppelin',\n",
       " 'https://github.com/apache/zookeeper',\n",
       " 'https://github.com/apereo/cas',\n",
       " 'https://github.com/apereo/java-cas-client',\n",
       " 'https://github.com/bcgit/bc-java',\n",
       " 'https://github.com/beanshell/beanshell',\n",
       " 'https://github.com/belaban/JGroups',\n",
       " 'https://github.com/blynkkk/blynk-server',\n",
       " 'https://github.com/cloudfoundry-incubator/credhub',\n",
       " 'https://github.com/cloudfoundry/uaa',\n",
       " 'https://github.com/dom4j/dom4j',\n",
       " 'https://github.com/dropwizard/dropwizard',\n",
       " 'https://github.com/eclipse-ee4j/mojarra',\n",
       " 'https://github.com/eclipse-vertx/vert.x',\n",
       " 'https://github.com/eclipse/che',\n",
       " 'https://github.com/eclipse/jetty.project',\n",
       " 'https://github.com/eclipse/kura',\n",
       " 'https://github.com/eclipse/milo',\n",
       " 'https://github.com/eclipse/openj9',\n",
       " 'https://github.com/eclipse/paho.mqtt.java',\n",
       " 'https://github.com/eclipse/rdf4j',\n",
       " 'https://github.com/elastic/elasticsearch',\n",
       " 'https://github.com/elastic/elasticsearch.git',\n",
       " 'https://github.com/esigate/esigate',\n",
       " 'https://github.com/facebook/buck',\n",
       " 'https://github.com/fusesource/hawtjni.git',\n",
       " 'https://github.com/google/conscrypt',\n",
       " 'https://github.com/google/guava',\n",
       " 'https://github.com/googleapis/google-oauth-java-client',\n",
       " 'https://github.com/hawtio/hawtio',\n",
       " 'https://github.com/hazelcast/hazelcast',\n",
       " 'https://github.com/hibernate/hibernate-validator',\n",
       " 'https://github.com/igniterealtime/Openfire',\n",
       " 'https://github.com/infinispan/infinispan',\n",
       " 'https://github.com/itext/itext7',\n",
       " 'https://github.com/jamesagnew/hapi-fhir',\n",
       " 'https://github.com/javaserverfaces/mojarra',\n",
       " 'https://github.com/jenkinsci/dynatrace-plugin',\n",
       " 'https://github.com/jenkinsci/ec2-plugin',\n",
       " 'https://github.com/jenkinsci/electricflow-plugin',\n",
       " 'https://github.com/jhy/jsoup',\n",
       " 'https://github.com/joniles/mpxj',\n",
       " 'https://github.com/jooby-project/jooby',\n",
       " 'https://github.com/junrar/junrar',\n",
       " 'https://github.com/keycloak/keycloak',\n",
       " 'https://github.com/kiegroup/droolsjbpm-integration',\n",
       " 'https://github.com/kiegroup/jbpm-designer',\n",
       " 'https://github.com/line/armeria',\n",
       " 'https://github.com/line/centraldogma',\n",
       " 'https://github.com/lingochamp/FileDownloader',\n",
       " 'https://github.com/looly/hutool',\n",
       " 'https://github.com/micronaut-projects/micronaut-core',\n",
       " 'https://github.com/mitreid-connect/OpenID-Connect-Java-Spring-Server',\n",
       " 'https://github.com/mysql/mysql-connector-j',\n",
       " 'https://github.com/nahsra/antisamy.git',\n",
       " 'https://github.com/neo4j-contrib/neo4j-apoc-procedures',\n",
       " 'https://github.com/neo4j/neo4j',\n",
       " 'https://github.com/netty/netty',\n",
       " 'https://github.com/oblac/jodd',\n",
       " 'https://github.com/opencast/opencast',\n",
       " 'https://github.com/openhab/openhab-addons',\n",
       " 'https://github.com/openmrs/openmrs-module-htmlformentry',\n",
       " 'https://github.com/opennetworkinglab/onos',\n",
       " 'https://github.com/orbeon/orbeon-forms.git',\n",
       " 'https://github.com/orientechnologies/orientdb',\n",
       " 'https://github.com/orientechnologies/orientdb.git',\n",
       " 'https://github.com/paseto-toolkit/jpaseto',\n",
       " 'https://github.com/penggle/kaptcha',\n",
       " 'https://github.com/perwendel/spark',\n",
       " 'https://github.com/pgjdbc/pgjdbc',\n",
       " 'https://github.com/pingidentity/ldapsdk',\n",
       " 'https://github.com/pippo-java/pippo',\n",
       " 'https://github.com/pivotal-cf/spring-cloud-sso-connector',\n",
       " 'https://github.com/playframework/playframework',\n",
       " 'https://github.com/primefaces/primefaces',\n",
       " 'https://github.com/qos-ch/logback',\n",
       " 'https://github.com/qos-ch/slf4j',\n",
       " 'https://github.com/quartz-scheduler/quartz',\n",
       " 'https://github.com/rabbitmq/rabbitmq-jms-client',\n",
       " 'https://github.com/ratpack/ratpack',\n",
       " 'https://github.com/reactor/reactor-netty',\n",
       " 'https://github.com/resteasy/Resteasy',\n",
       " 'https://github.com/restlet/restlet-framework-java',\n",
       " 'https://github.com/rhuss/jolokia',\n",
       " 'https://github.com/rhuss/jolokia.git',\n",
       " 'https://github.com/robo-code/robocode',\n",
       " 'https://github.com/rweather/noise-java',\n",
       " 'https://github.com/seam2/jboss-seam.git',\n",
       " 'https://github.com/sebfz1/wicket-jquery-ui',\n",
       " 'https://github.com/shopizer-ecommerce/shopizer',\n",
       " 'https://github.com/smallrye/smallrye-config',\n",
       " 'https://github.com/sonatype/nexus-public',\n",
       " 'https://github.com/spring-cloud/spring-cloud-config',\n",
       " 'https://github.com/spring-cloud/spring-cloud-netflix',\n",
       " 'https://github.com/spring-projects/spring-amqp',\n",
       " 'https://github.com/spring-projects/spring-amqp.git',\n",
       " 'https://github.com/spring-projects/spring-batch',\n",
       " 'https://github.com/spring-projects/spring-data-commons',\n",
       " 'https://github.com/spring-projects/spring-data-jpa',\n",
       " 'https://github.com/spring-projects/spring-data-rest',\n",
       " 'https://github.com/spring-projects/spring-framework',\n",
       " 'https://github.com/spring-projects/spring-framework.git',\n",
       " 'https://github.com/spring-projects/spring-integration',\n",
       " 'https://github.com/spring-projects/spring-integration-extensions',\n",
       " 'https://github.com/spring-projects/spring-ldap',\n",
       " 'https://github.com/spring-projects/spring-security',\n",
       " 'https://github.com/spring-projects/spring-security-oauth',\n",
       " 'https://github.com/spring-projects/spring-security-oauth.git',\n",
       " 'https://github.com/spring-projects/spring-security.git',\n",
       " 'https://github.com/spring-projects/spring-social.git',\n",
       " 'https://github.com/spring-projects/spring-webflow',\n",
       " 'https://github.com/spring-projects/spring-webflow.git',\n",
       " 'https://github.com/spring-projects/spring-ws',\n",
       " 'https://github.com/square/okhttp',\n",
       " 'https://github.com/square/retrofit',\n",
       " 'https://github.com/swagger-api/swagger-codegen',\n",
       " 'https://github.com/swagger-api/swagger-parser',\n",
       " 'https://github.com/swaldman/c3p0',\n",
       " 'https://github.com/tada/pljava',\n",
       " 'https://github.com/undertow-io/undertow',\n",
       " 'https://github.com/vert-x3/vertx-web',\n",
       " 'https://github.com/vt-middleware/cryptacular',\n",
       " 'https://github.com/w3c/css-validator',\n",
       " 'https://github.com/walmartlabs/concord',\n",
       " 'https://github.com/webbukkit/dynmap',\n",
       " 'https://github.com/weld/core.git',\n",
       " 'https://github.com/wildfly-security/wildfly-elytron',\n",
       " 'https://github.com/wildfly/wildfly',\n",
       " 'https://github.com/wildfly/wildfly-core',\n",
       " 'https://github.com/wso2/carbon-analytics-common',\n",
       " 'https://github.com/wso2/carbon-governance',\n",
       " 'https://github.com/wso2/transport-http',\n",
       " 'https://github.com/wuweiit/mushroom',\n",
       " 'https://github.com/x-stream/xstream',\n",
       " 'https://github.com/x-stream/xstream.git',\n",
       " 'https://github.com/xjodoin/torpedoquery',\n",
       " 'https://github.com/xwiki/xwiki-platform',\n",
       " 'https://github.com/yahoo/elide',\n",
       " 'https://github.com/zeroturnaround/zt-zip'}"
      ]
     },
     "metadata": {},
     "execution_count": 33
    }
   ],
   "metadata": {}
  },
  {
   "cell_type": "code",
   "execution_count": 5,
   "source": [
    "count = 0\n",
    "for vulnerability_id in tqdm(vuln_ids):\n",
    "    # vuln_data = requests.get(NVD_API + vulnerability_id)\n",
    "    ar = AdvisoryRecord(vulnerability_id=vulnerability_id)\n",
    "    ar.analyze(use_nvd=True)\n",
    "    # records.append(ar)\n",
    "\n",
    "    print(ar.affected_products)\n",
    "    \n",
    "    # if ar.license != 'OSS':\n",
    "    #     count += 1\n",
    "    #     # print('.', end='')\n",
    "    #     print(ar.vulnerability_id, ar.license)\n",
    "    #     print(ar.description)\n",
    "    #     # print(ar.license)\n",
    "    # for r in ar.references:\n",
    "    #     references.add(urlparse(r).hostname)\n",
    "\n",
    "# print(references)"
   ],
   "outputs": [
    {
     "output_type": "stream",
     "name": "stderr",
     "text": [
      "  0%|          | 2/723 [00:00<02:41,  4.47it/s]"
     ]
    },
    {
     "output_type": "stream",
     "name": "stdout",
     "text": [
      "['apache-struts']\n",
      "['Cancelled', 'Struts', 'Constants', 'Software', 'Apache', 'Foundation']\n"
     ]
    },
    {
     "output_type": "stream",
     "name": "stderr",
     "text": [
      "  1%|          | 4/723 [00:00<02:20,  5.10it/s]"
     ]
    },
    {
     "output_type": "stream",
     "name": "stdout",
     "text": [
      "['Bean', 'Struts', 'Multipart', 'Request', 'Handler', 'Commons', 'Software', 'Utils', 'Apache', 'Foundation', 'Form', 'Action']\n",
      "['Struts', 'Dispatcher', 'Dispatch', 'Cross', 'Lookup', 'Software', 'Apache', 'Foundation', 'Action']\n"
     ]
    },
    {
     "output_type": "stream",
     "name": "stderr",
     "text": [
      "  1%|          | 6/723 [00:01<02:14,  5.32it/s]"
     ]
    },
    {
     "output_type": "stream",
     "name": "stdout",
     "text": [
      "['Realtime', 'Manager', 'Ignite', 'Openfire', 'Impl', 'Connection']\n",
      "['apache-struts']\n"
     ]
    },
    {
     "output_type": "stream",
     "name": "stderr",
     "text": [
      "  1%|          | 8/723 [00:01<02:00,  5.93it/s]"
     ]
    },
    {
     "output_type": "stream",
     "name": "stdout",
     "text": [
      "['apache-struts']\n",
      "['apache-activemq']\n"
     ]
    },
    {
     "output_type": "stream",
     "name": "stderr",
     "text": [
      "  1%|▏         | 10/723 [00:01<01:54,  6.22it/s]"
     ]
    },
    {
     "output_type": "stream",
     "name": "stdout",
     "text": [
      "['apache-activemq']\n",
      "['Orbeon', 'Ajax', 'XForms', 'Impl', 'Factory', 'Forms', 'DTDs', 'SAXParser', 'Xerces']\n"
     ]
    },
    {
     "output_type": "stream",
     "name": "stderr",
     "text": [
      "  2%|▏         | 12/723 [00:02<02:00,  5.92it/s]"
     ]
    },
    {
     "output_type": "stream",
     "name": "stdout",
     "text": [
      "['Open', 'Signature', 'Shibboleth']\n",
      "['apache-struts']\n"
     ]
    },
    {
     "output_type": "stream",
     "name": "stderr",
     "text": [
      "  2%|▏         | 14/723 [00:02<01:52,  6.32it/s]"
     ]
    },
    {
     "output_type": "stream",
     "name": "stdout",
     "text": [
      "['apache-struts']\n",
      "['apache-struts']\n"
     ]
    },
    {
     "output_type": "stream",
     "name": "stderr",
     "text": [
      "  2%|▏         | 16/723 [00:02<01:47,  6.61it/s]"
     ]
    },
    {
     "output_type": "stream",
     "name": "stdout",
     "text": [
      "['Core', 'Information', 'Apache', 'Faces']\n",
      "['eclipse-jetty']\n"
     ]
    },
    {
     "output_type": "stream",
     "name": "stderr",
     "text": [
      "  2%|▏         | 18/723 [00:02<01:43,  6.82it/s]"
     ]
    },
    {
     "output_type": "stream",
     "name": "stdout",
     "text": [
      "['apache-struts']\n",
      "['apache-struts']\n"
     ]
    },
    {
     "output_type": "stream",
     "name": "stderr",
     "text": [
      "  3%|▎         | 20/723 [00:03<01:44,  6.76it/s]"
     ]
    },
    {
     "output_type": "stream",
     "name": "stdout",
     "text": [
      "['apache-struts']\n",
      "['apache-struts']\n"
     ]
    },
    {
     "output_type": "stream",
     "name": "stderr",
     "text": [
      "  3%|▎         | 21/723 [00:03<01:56,  6.01it/s]"
     ]
    },
    {
     "output_type": "stream",
     "name": "stdout",
     "text": [
      "['apache-struts']\n"
     ]
    },
    {
     "output_type": "stream",
     "name": "stderr",
     "text": [
      "  3%|▎         | 22/723 [00:03<02:16,  5.15it/s]"
     ]
    },
    {
     "output_type": "stream",
     "name": "stdout",
     "text": [
      "['Apache', 'Java', 'Parser', 'Xerces']\n"
     ]
    },
    {
     "output_type": "stream",
     "name": "stderr",
     "text": [
      "  3%|▎         | 24/723 [00:04<02:22,  4.90it/s]"
     ]
    },
    {
     "output_type": "stream",
     "name": "stdout",
     "text": [
      "['apache-struts']\n",
      "['apache-struts']\n"
     ]
    },
    {
     "output_type": "stream",
     "name": "stderr",
     "text": [
      "  4%|▎         | 26/723 [00:04<01:59,  5.85it/s]"
     ]
    },
    {
     "output_type": "stream",
     "name": "stdout",
     "text": [
      "['Alt', 'Common', 'Java', 'Name', 'Apache', 'Axis']\n",
      "['apache-activemq']\n"
     ]
    },
    {
     "output_type": "stream",
     "name": "stderr",
     "text": [
      "  4%|▎         | 27/723 [00:04<01:51,  6.26it/s]"
     ]
    },
    {
     "output_type": "stream",
     "name": "stdout",
     "text": [
      "['Request', 'Handler', 'Update', 'Processor', 'Apache', 'XPath', 'Solr', 'The', 'External', 'Entity']\n"
     ]
    },
    {
     "output_type": "stream",
     "name": "stderr",
     "text": [
      "  4%|▍         | 29/723 [00:05<02:11,  5.26it/s]"
     ]
    },
    {
     "output_type": "stream",
     "name": "stdout",
     "text": [
      "['Upload', 'Commons', 'Apache', 'File', 'The']\n",
      "['apache-activemq']\n"
     ]
    },
    {
     "output_type": "stream",
     "name": "stderr",
     "text": [
      "  4%|▍         | 30/723 [00:05<02:02,  5.65it/s]"
     ]
    },
    {
     "output_type": "stream",
     "name": "stdout",
     "text": [
      "['apache-activemq']\n"
     ]
    },
    {
     "output_type": "stream",
     "name": "stderr",
     "text": [
      "  4%|▍         | 31/723 [00:05<02:14,  5.15it/s]"
     ]
    },
    {
     "output_type": "stream",
     "name": "stdout",
     "text": [
      "['apache-struts']\n"
     ]
    },
    {
     "output_type": "stream",
     "name": "stderr",
     "text": [
      "  5%|▍         | 33/723 [00:05<02:08,  5.37it/s]"
     ]
    },
    {
     "output_type": "stream",
     "name": "stdout",
     "text": [
      "['apache-struts']\n",
      "['Hawt', 'Race', 'Java', 'Library']\n"
     ]
    },
    {
     "output_type": "stream",
     "name": "stderr",
     "text": [
      "  5%|▍         | 35/723 [00:06<01:52,  6.12it/s]"
     ]
    },
    {
     "output_type": "stream",
     "name": "stdout",
     "text": [
      "['apache-struts']\n",
      "['apache-struts']\n"
     ]
    },
    {
     "output_type": "stream",
     "name": "stderr",
     "text": [
      "  5%|▌         | 37/723 [00:06<01:56,  5.87it/s]"
     ]
    },
    {
     "output_type": "stream",
     "name": "stdout",
     "text": [
      "['apache-struts']\n",
      "['Apache', 'HBase', 'Kerberos']\n"
     ]
    },
    {
     "output_type": "stream",
     "name": "stderr",
     "text": [
      "  5%|▌         | 39/723 [00:06<01:45,  6.46it/s]"
     ]
    },
    {
     "output_type": "stream",
     "name": "stdout",
     "text": [
      "['apache-struts']\n",
      "['apache-struts']\n"
     ]
    },
    {
     "output_type": "stream",
     "name": "stderr",
     "text": [
      "  6%|▌         | 40/723 [00:06<01:43,  6.63it/s]"
     ]
    },
    {
     "output_type": "stream",
     "name": "stdout",
     "text": [
      "['Environment', 'Embedded', 'Oracle', 'Runtime', 'Java', 'Apache', 'XMLscanner', 'JRockit', 'Parser', 'Xerces']\n"
     ]
    },
    {
     "output_type": "stream",
     "name": "stderr",
     "text": [
      "  6%|▌         | 41/723 [00:07<02:06,  5.40it/s]"
     ]
    },
    {
     "output_type": "stream",
     "name": "stdout",
     "text": [
      "['spring-framework']\n"
     ]
    },
    {
     "output_type": "stream",
     "name": "stderr",
     "text": [
      "  6%|▌         | 42/723 [00:07<02:27,  4.63it/s]"
     ]
    },
    {
     "output_type": "stream",
     "name": "stdout",
     "text": [
      "['Representation', 'Object', 'Restlet', 'XMLDecoder', 'Java', 'The']\n"
     ]
    },
    {
     "output_type": "stream",
     "name": "stderr",
     "text": [
      "  6%|▌         | 43/723 [00:07<02:50,  3.98it/s]"
     ]
    },
    {
     "output_type": "stream",
     "name": "stdout",
     "text": [
      "['Content', 'Transfer', 'Tomcat', 'Length', 'Apache', 'Encoding']\n"
     ]
    },
    {
     "output_type": "stream",
     "name": "stderr",
     "text": [
      "  6%|▌         | 44/723 [00:07<02:43,  4.16it/s]"
     ]
    },
    {
     "output_type": "stream",
     "name": "stdout",
     "text": [
      "['apache-struts']\n"
     ]
    },
    {
     "output_type": "stream",
     "name": "stderr",
     "text": [
      "  6%|▌         | 45/723 [00:08<02:35,  4.35it/s]"
     ]
    },
    {
     "output_type": "stream",
     "name": "stdout",
     "text": [
      "['apache-struts']\n"
     ]
    },
    {
     "output_type": "stream",
     "name": "stderr",
     "text": [
      "  6%|▋         | 46/723 [00:08<02:30,  4.49it/s]"
     ]
    },
    {
     "output_type": "stream",
     "name": "stdout",
     "text": [
      "['Apache', 'File', 'Name', 'Camel']\n"
     ]
    },
    {
     "output_type": "stream",
     "name": "stderr",
     "text": [
      "  7%|▋         | 47/723 [00:08<02:33,  4.41it/s]"
     ]
    },
    {
     "output_type": "stream",
     "name": "stdout",
     "text": [
      "['Hostname', 'Builder', 'Client', 'Verifier', 'Http', 'Apache']\n"
     ]
    },
    {
     "output_type": "stream",
     "name": "stderr",
     "text": [
      "  7%|▋         | 49/723 [00:08<02:24,  4.67it/s]"
     ]
    },
    {
     "output_type": "stream",
     "name": "stdout",
     "text": [
      "['The', 'Java', 'Enterprise', 'Security']\n",
      "['Text', 'Mojarra', 'Oracle']\n"
     ]
    },
    {
     "output_type": "stream",
     "name": "stderr",
     "text": [
      "  7%|▋         | 51/723 [00:09<02:19,  4.81it/s]"
     ]
    },
    {
     "output_type": "stream",
     "name": "stdout",
     "text": [
      "['The', 'Java', 'Enterprise', 'Security']\n",
      "['apache-struts']\n"
     ]
    },
    {
     "output_type": "stream",
     "name": "stderr",
     "text": [
      "  7%|▋         | 53/723 [00:09<02:13,  5.02it/s]"
     ]
    },
    {
     "output_type": "stream",
     "name": "stdout",
     "text": [
      "['Loader', 'Resource', 'Directory', 'Xternal', 'Solr', 'Apache', 'Entity']\n",
      "['Request', 'Handler', 'Update', 'Apache', 'Solr', 'The', 'External', 'Entity']\n"
     ]
    },
    {
     "output_type": "stream",
     "name": "stderr",
     "text": [
      "  7%|▋         | 54/723 [00:09<02:11,  5.09it/s]"
     ]
    },
    {
     "output_type": "stream",
     "name": "stdout",
     "text": [
      "['Document', 'Analysis', 'Request', 'Handler', 'Empty', 'Resolver', 'Apache', 'Solr', 'The', 'External', 'Entity']\n"
     ]
    },
    {
     "output_type": "stream",
     "name": "stderr",
     "text": [
      "  8%|▊         | 56/723 [00:10<02:28,  4.49it/s]"
     ]
    },
    {
     "output_type": "stream",
     "name": "stdout",
     "text": [
      "['spring-framework']\n",
      "['spring-framework']\n"
     ]
    },
    {
     "output_type": "stream",
     "name": "stderr",
     "text": [
      "  8%|▊         | 58/723 [00:10<02:11,  5.07it/s]"
     ]
    },
    {
     "output_type": "stream",
     "name": "stdout",
     "text": [
      "['Handler', 'Execution', 'Subscription', 'JBoss', 'Poll', 'Remoting', 'Kit', 'Web', 'Seam', 'External', 'Framework', 'Entity', 'Multiple']\n",
      "['JBoss', 'Remoting', 'Kit', 'Generator', 'Web', 'Remote', 'Seam', 'The', 'Framework', 'Interface']\n"
     ]
    },
    {
     "output_type": "stream",
     "name": "stderr",
     "text": [
      "  8%|▊         | 60/723 [00:11<01:58,  5.59it/s]"
     ]
    },
    {
     "output_type": "stream",
     "name": "stdout",
     "text": [
      "['Xstream']\n",
      "['spring-framework']\n"
     ]
    },
    {
     "output_type": "stream",
     "name": "stderr",
     "text": [
      "  9%|▊         | 62/723 [00:11<01:52,  5.86it/s]"
     ]
    },
    {
     "output_type": "stream",
     "name": "stdout",
     "text": [
      "['Store', 'Http', 'Client', 'Async']\n",
      "['Config', 'Http', 'Client', 'Async']\n"
     ]
    },
    {
     "output_type": "stream",
     "name": "stderr",
     "text": [
      "  9%|▊         | 63/723 [00:11<01:55,  5.70it/s]"
     ]
    },
    {
     "output_type": "stream",
     "name": "stdout",
     "text": [
      "['Apache', 'Camel', 'The', 'External', 'Entity']\n"
     ]
    },
    {
     "output_type": "stream",
     "name": "stderr",
     "text": [
      "  9%|▉         | 65/723 [00:12<02:02,  5.36it/s]"
     ]
    },
    {
     "output_type": "stream",
     "name": "stdout",
     "text": [
      "['The', 'Java', 'Apache', 'Camel']\n",
      "['spring-framework']\n"
     ]
    },
    {
     "output_type": "stream",
     "name": "stderr",
     "text": [
      "  9%|▉         | 67/723 [00:12<01:51,  5.86it/s]"
     ]
    },
    {
     "output_type": "stream",
     "name": "stdout",
     "text": [
      "['apache-struts']\n",
      "['spring-security']\n"
     ]
    },
    {
     "output_type": "stream",
     "name": "stderr",
     "text": [
      " 10%|▉         | 69/723 [00:12<01:43,  6.29it/s]"
     ]
    },
    {
     "output_type": "stream",
     "name": "stdout",
     "text": [
      "['Apache', 'Type', 'Content']\n",
      "['Apache']\n"
     ]
    },
    {
     "output_type": "stream",
     "name": "stderr",
     "text": [
      " 10%|▉         | 71/723 [00:12<01:40,  6.49it/s]"
     ]
    },
    {
     "output_type": "stream",
     "name": "stdout",
     "text": [
      "['apache-struts']\n",
      "['apache-struts']\n"
     ]
    },
    {
     "output_type": "stream",
     "name": "stderr",
     "text": [
      " 10%|█         | 73/723 [00:13<01:41,  6.42it/s]"
     ]
    },
    {
     "output_type": "stream",
     "name": "stdout",
     "text": [
      "['apache-commons-beanutils', 'apache-struts-1']\n",
      "['apache-struts']\n"
     ]
    },
    {
     "output_type": "stream",
     "name": "stderr",
     "text": [
      " 10%|█         | 75/723 [00:13<01:42,  6.35it/s]"
     ]
    },
    {
     "output_type": "stream",
     "name": "stdout",
     "text": [
      "['Jolokia', 'Cross', 'MBeans']\n",
      "['Socket', 'Continuation', 'Text', 'Netty', 'Decoder', 'Frame', 'Frames', 'Web']\n"
     ]
    },
    {
     "output_type": "stream",
     "name": "stderr",
     "text": [
      " 11%|█         | 77/723 [00:13<01:40,  6.40it/s]"
     ]
    },
    {
     "output_type": "stream",
     "name": "stdout",
     "text": [
      "['spring-framework']\n",
      "['Namenodes', 'Block', 'Data', 'Cloudera', 'Pool', 'Nodes', 'Datanode', 'Hadoop', 'Apache']\n"
     ]
    },
    {
     "output_type": "stream",
     "name": "stderr",
     "text": [
      " 11%|█         | 79/723 [00:14<01:45,  6.09it/s]"
     ]
    },
    {
     "output_type": "stream",
     "name": "stdout",
     "text": [
      "['spring-framework']\n",
      "['Apache', 'Tapestry']\n"
     ]
    },
    {
     "output_type": "stream",
     "name": "stderr",
     "text": [
      " 11%|█         | 81/723 [00:14<01:43,  6.19it/s]"
     ]
    },
    {
     "output_type": "stream",
     "name": "stdout",
     "text": [
      "['Ssl', 'Handler', 'Hello', 'Netty', 'SSLv', 'The']\n",
      "['spring-security']\n"
     ]
    },
    {
     "output_type": "stream",
     "name": "stderr",
     "text": [
      " 11%|█▏        | 83/723 [00:14<01:44,  6.14it/s]"
     ]
    },
    {
     "output_type": "stream",
     "name": "stdout",
     "text": [
      "['Rope', 'Python', 'CPython']\n",
      "['Reflection', 'Manager', 'Helper', 'Java', 'Validator', 'Hibernate', 'Security']\n"
     ]
    },
    {
     "output_type": "stream",
     "name": "stderr",
     "text": [
      " 12%|█▏        | 85/723 [00:15<01:41,  6.32it/s]"
     ]
    },
    {
     "output_type": "stream",
     "name": "stdout",
     "text": [
      "['apache-activemq']\n",
      "['spring-framework']\n"
     ]
    },
    {
     "output_type": "stream",
     "name": "stderr",
     "text": [
      " 12%|█▏        | 87/723 [00:15<01:46,  5.95it/s]"
     ]
    },
    {
     "output_type": "stream",
     "name": "stdout",
     "text": [
      "['apache-activemq']\n",
      "['Handler', 'Saml', 'Apache', 'The', 'Header']\n"
     ]
    },
    {
     "output_type": "stream",
     "name": "stderr",
     "text": [
      " 12%|█▏        | 89/723 [00:15<01:43,  6.13it/s]"
     ]
    },
    {
     "output_type": "stream",
     "name": "stdout",
     "text": [
      "['apache-activemq']\n",
      "['apache-activemq']\n"
     ]
    },
    {
     "output_type": "stream",
     "name": "stderr",
     "text": [
      " 13%|█▎        | 91/723 [00:16<01:43,  6.09it/s]"
     ]
    },
    {
     "output_type": "stream",
     "name": "stdout",
     "text": [
      "['spring-framework']\n",
      "['Resource', 'Impl', 'JBPMBpmn']\n"
     ]
    },
    {
     "output_type": "stream",
     "name": "stderr",
     "text": [
      " 13%|█▎        | 93/723 [00:16<01:40,  6.27it/s]"
     ]
    },
    {
     "output_type": "stream",
     "name": "stdout",
     "text": [
      "['Ticket', 'Client', 'Jasig', 'Cas', 'Java', 'Url', 'Validator', 'Based', 'Service', 'Abstract']\n",
      "['apache-struts']\n"
     ]
    },
    {
     "output_type": "stream",
     "name": "stderr",
     "text": [
      " 13%|█▎        | 95/723 [00:16<01:40,  6.23it/s]"
     ]
    },
    {
     "output_type": "stream",
     "name": "stdout",
     "text": [
      "['Race', 'Weld', 'JBoss', 'Alpha']\n",
      "['Dozer']\n"
     ]
    },
    {
     "output_type": "stream",
     "name": "stderr",
     "text": [
      " 13%|█▎        | 97/723 [00:17<01:38,  6.33it/s]"
     ]
    },
    {
     "output_type": "stream",
     "name": "stdout",
     "text": [
      "['spring-framework']\n",
      "['The', 'Java', 'Apache', 'Cassandra']\n"
     ]
    },
    {
     "output_type": "stream",
     "name": "stderr",
     "text": [
      " 14%|█▎        | 99/723 [00:17<01:39,  6.26it/s]"
     ]
    },
    {
     "output_type": "stream",
     "name": "stdout",
     "text": [
      "['SAXSource', 'Xml', 'Camel', 'Apache', 'Converter']\n",
      "['Builder', 'Generic', 'File', 'Camel', 'XPath', 'Apache', 'String', 'Multiple']\n"
     ]
    },
    {
     "output_type": "stream",
     "name": "stderr",
     "text": [
      " 14%|█▍        | 101/723 [00:17<01:36,  6.42it/s]"
     ]
    },
    {
     "output_type": "stream",
     "name": "stdout",
     "text": [
      "['The', 'Groovy', 'Elasticsearch']\n",
      "['Apache', 'Ambari', 'Server']\n"
     ]
    },
    {
     "output_type": "stream",
     "name": "stderr",
     "text": [
      " 14%|█▍        | 103/723 [00:18<01:41,  6.13it/s]"
     ]
    },
    {
     "output_type": "stream",
     "name": "stdout",
     "text": [
      "['Reduce', 'Map', 'Hadoop', 'Apache', 'Intermediate']\n",
      "['Authority', 'Shibboleth', 'Provider', 'Open', 'Java', 'Identity', 'The', 'Key']\n"
     ]
    },
    {
     "output_type": "stream",
     "name": "stderr",
     "text": [
      " 15%|█▍        | 105/723 [00:18<01:43,  5.96it/s]"
     ]
    },
    {
     "output_type": "stream",
     "name": "stdout",
     "text": [
      "['apache-activemq']\n",
      "['apache-struts']\n"
     ]
    },
    {
     "output_type": "stream",
     "name": "stderr",
     "text": [
      " 15%|█▍        | 107/723 [00:18<01:49,  5.61it/s]"
     ]
    },
    {
     "output_type": "stream",
     "name": "stdout",
     "text": [
      "['Info', 'HBase', 'Big', 'Zoo', 'Insights', 'ACLs', 'Keeper', 'Sphere', 'Apache']\n",
      "['eclipse-jetty']\n"
     ]
    },
    {
     "output_type": "stream",
     "name": "stderr",
     "text": [
      " 15%|█▌        | 109/723 [00:19<01:41,  6.07it/s]"
     ]
    },
    {
     "output_type": "stream",
     "name": "stdout",
     "text": [
      "['Beta', 'Play', 'Netty', 'Final', 'Only', 'Framework']\n",
      "['Edition', 'Server', 'Studio', 'Community', 'The', 'Orient']\n"
     ]
    },
    {
     "output_type": "stream",
     "name": "stderr",
     "text": [
      " 15%|█▌        | 111/723 [00:19<01:36,  6.32it/s]"
     ]
    },
    {
     "output_type": "stream",
     "name": "stdout",
     "text": [
      "['Manager', 'OHttp', 'Edition', 'Server', 'Studio', 'Random', 'Community', 'Session', 'Orient']\n",
      "['Pivotal', 'Password', 'Deployments', 'Cloud', 'Standalone', 'Links', 'With', 'Runtime', 'Reset', 'Foundry', 'This']\n"
     ]
    },
    {
     "output_type": "stream",
     "name": "stderr",
     "text": [
      " 16%|█▌        | 113/723 [00:19<01:32,  6.63it/s]"
     ]
    },
    {
     "output_type": "stream",
     "name": "stdout",
     "text": [
      "['spring-framework']\n",
      "['Artemis', 'Active', 'XPath']\n"
     ]
    },
    {
     "output_type": "stream",
     "name": "stderr",
     "text": [
      " 16%|█▌        | 115/723 [00:20<01:31,  6.64it/s]"
     ]
    },
    {
     "output_type": "stream",
     "name": "stdout",
     "text": [
      "['Closure', 'Apache', 'Groovy', 'Method', 'The']\n",
      "['Apache', 'Tika', 'Url']\n"
     ]
    },
    {
     "output_type": "stream",
     "name": "stderr",
     "text": [
      " 16%|█▌        | 117/723 [00:20<01:35,  6.36it/s]"
     ]
    },
    {
     "output_type": "stream",
     "name": "stdout",
     "text": [
      "['The', 'Java', 'Lucene', 'Elasticsearch']\n",
      "['Pivotal', 'Cloud', 'Runtime', 'Elastic', 'Foundry']\n"
     ]
    },
    {
     "output_type": "stream",
     "name": "stderr",
     "text": [
      " 16%|█▋        | 119/723 [00:20<01:34,  6.41it/s]"
     ]
    },
    {
     "output_type": "stream",
     "name": "stdout",
     "text": [
      "['Pivotal', 'Foundry', 'Cloud', 'Runtime', 'Elastic', 'The']\n",
      "['Pivotal', 'Cloud', 'Runtime', 'Elastic', 'Foundry']\n"
     ]
    },
    {
     "output_type": "stream",
     "name": "stderr",
     "text": [
      " 17%|█▋        | 120/723 [00:21<01:58,  5.08it/s]"
     ]
    },
    {
     "output_type": "stream",
     "name": "stdout",
     "text": [
      "['Apache', 'Fediz', 'Application']\n"
     ]
    },
    {
     "output_type": "stream",
     "name": "stderr",
     "text": [
      " 17%|█▋        | 121/723 [00:21<02:36,  3.84it/s]"
     ]
    },
    {
     "output_type": "stream",
     "name": "stdout",
     "text": [
      "['Transfer', 'File', 'Cordova', 'Apache', 'Android', 'Plugin']\n"
     ]
    },
    {
     "output_type": "stream",
     "name": "stderr",
     "text": [
      " 17%|█▋        | 123/723 [00:21<02:30,  3.99it/s]"
     ]
    },
    {
     "output_type": "stream",
     "name": "stdout",
     "text": [
      "['apache-struts']\n",
      "['The', 'Apache', 'Web']\n"
     ]
    },
    {
     "output_type": "stream",
     "name": "stderr",
     "text": [
      " 17%|█▋        | 123/723 [00:22<01:47,  5.58it/s]\n"
     ]
    },
    {
     "output_type": "error",
     "ename": "KeyboardInterrupt",
     "evalue": "",
     "traceback": [
      "\u001b[0;31m---------------------------------------------------------------------------\u001b[0m",
      "\u001b[0;31mKeyboardInterrupt\u001b[0m                         Traceback (most recent call last)",
      "\u001b[0;32m/tmp/ipykernel_21085/3460048856.py\u001b[0m in \u001b[0;36m<module>\u001b[0;34m\u001b[0m\n\u001b[1;32m      3\u001b[0m     \u001b[0;31m# vuln_data = requests.get(NVD_API + vulnerability_id)\u001b[0m\u001b[0;34m\u001b[0m\u001b[0;34m\u001b[0m\u001b[0;34m\u001b[0m\u001b[0m\n\u001b[1;32m      4\u001b[0m     \u001b[0mar\u001b[0m \u001b[0;34m=\u001b[0m \u001b[0mAdvisoryRecord\u001b[0m\u001b[0;34m(\u001b[0m\u001b[0mvulnerability_id\u001b[0m\u001b[0;34m=\u001b[0m\u001b[0mvulnerability_id\u001b[0m\u001b[0;34m)\u001b[0m\u001b[0;34m\u001b[0m\u001b[0;34m\u001b[0m\u001b[0m\n\u001b[0;32m----> 5\u001b[0;31m     \u001b[0mar\u001b[0m\u001b[0;34m.\u001b[0m\u001b[0manalyze\u001b[0m\u001b[0;34m(\u001b[0m\u001b[0muse_nvd\u001b[0m\u001b[0;34m=\u001b[0m\u001b[0;32mTrue\u001b[0m\u001b[0;34m)\u001b[0m\u001b[0;34m\u001b[0m\u001b[0;34m\u001b[0m\u001b[0m\n\u001b[0m\u001b[1;32m      6\u001b[0m     \u001b[0;31m# records.append(ar)\u001b[0m\u001b[0;34m\u001b[0m\u001b[0;34m\u001b[0m\u001b[0;34m\u001b[0m\u001b[0m\n\u001b[1;32m      7\u001b[0m \u001b[0;34m\u001b[0m\u001b[0m\n",
      "\u001b[0;32m~/Documents/10_working/project-kb/src-github/prospector/datamodel/advisory.py\u001b[0m in \u001b[0;36manalyze\u001b[0;34m(self, use_nvd, fetch_references)\u001b[0m\n\u001b[1;32m     85\u001b[0m         )\n\u001b[1;32m     86\u001b[0m \u001b[0;34m\u001b[0m\u001b[0m\n\u001b[0;32m---> 87\u001b[0;31m         \u001b[0mself\u001b[0m\u001b[0;34m.\u001b[0m\u001b[0maffected_products\u001b[0m \u001b[0;34m=\u001b[0m \u001b[0mextract_products\u001b[0m\u001b[0;34m(\u001b[0m\u001b[0mself\u001b[0m\u001b[0;34m.\u001b[0m\u001b[0mdescription\u001b[0m\u001b[0;34m)\u001b[0m\u001b[0;34m\u001b[0m\u001b[0;34m\u001b[0m\u001b[0m\n\u001b[0m\u001b[1;32m     88\u001b[0m         \u001b[0mself\u001b[0m\u001b[0;34m.\u001b[0m\u001b[0mpaths\u001b[0m \u001b[0;34m=\u001b[0m \u001b[0mextract_path_tokens\u001b[0m\u001b[0;34m(\u001b[0m\u001b[0mself\u001b[0m\u001b[0;34m.\u001b[0m\u001b[0mdescription\u001b[0m\u001b[0;34m)\u001b[0m\u001b[0;34m\u001b[0m\u001b[0;34m\u001b[0m\u001b[0m\n\u001b[1;32m     89\u001b[0m         \u001b[0mself\u001b[0m\u001b[0;34m.\u001b[0m\u001b[0mkeywords\u001b[0m \u001b[0;34m=\u001b[0m \u001b[0mextract_special_terms\u001b[0m\u001b[0;34m(\u001b[0m\u001b[0mself\u001b[0m\u001b[0;34m.\u001b[0m\u001b[0mdescription\u001b[0m\u001b[0;34m)\u001b[0m\u001b[0;34m\u001b[0m\u001b[0;34m\u001b[0m\u001b[0m\n",
      "\u001b[0;32m~/Documents/10_working/project-kb/src-github/prospector/datamodel/nlp.py\u001b[0m in \u001b[0;36mextract_products\u001b[0;34m(text)\u001b[0m\n\u001b[1;32m     34\u001b[0m     \u001b[0mExtract\u001b[0m \u001b[0mproduct\u001b[0m \u001b[0mnames\u001b[0m \u001b[0;32mfrom\u001b[0m \u001b[0madvisory\u001b[0m \u001b[0mtext\u001b[0m\u001b[0;34m\u001b[0m\u001b[0;34m\u001b[0m\u001b[0m\n\u001b[1;32m     35\u001b[0m     \"\"\"\n\u001b[0;32m---> 36\u001b[0;31m     \u001b[0mnlp\u001b[0m \u001b[0;34m=\u001b[0m \u001b[0mEnglish\u001b[0m\u001b[0;34m(\u001b[0m\u001b[0;34m)\u001b[0m\u001b[0;34m\u001b[0m\u001b[0;34m\u001b[0m\u001b[0m\n\u001b[0m\u001b[1;32m     37\u001b[0m     \u001b[0mnlp\u001b[0m\u001b[0;34m.\u001b[0m\u001b[0madd_pipe\u001b[0m\u001b[0;34m(\u001b[0m\u001b[0;34m\"entity_ruler\"\u001b[0m\u001b[0;34m)\u001b[0m\u001b[0;34m.\u001b[0m\u001b[0mfrom_disk\u001b[0m\u001b[0;34m(\u001b[0m\u001b[0;34m\"./datamodel/gazetteers/products.jsonl\"\u001b[0m\u001b[0;34m)\u001b[0m\u001b[0;34m\u001b[0m\u001b[0;34m\u001b[0m\u001b[0m\n\u001b[1;32m     38\u001b[0m \u001b[0;34m\u001b[0m\u001b[0m\n",
      "\u001b[0;32m~/.local/share/virtualenvs/prospector-C4A5icFp/lib/python3.8/site-packages/spacy/language.py\u001b[0m in \u001b[0;36m__init__\u001b[0;34m(self, vocab, max_length, meta, create_tokenizer, batch_size, **kwargs)\u001b[0m\n\u001b[1;32m    175\u001b[0m             \u001b[0mtokenizer_cfg\u001b[0m \u001b[0;34m=\u001b[0m \u001b[0;34m{\u001b[0m\u001b[0;34m\"tokenizer\"\u001b[0m\u001b[0;34m:\u001b[0m \u001b[0mself\u001b[0m\u001b[0;34m.\u001b[0m\u001b[0m_config\u001b[0m\u001b[0;34m[\u001b[0m\u001b[0;34m\"nlp\"\u001b[0m\u001b[0;34m]\u001b[0m\u001b[0;34m[\u001b[0m\u001b[0;34m\"tokenizer\"\u001b[0m\u001b[0;34m]\u001b[0m\u001b[0;34m}\u001b[0m\u001b[0;34m\u001b[0m\u001b[0;34m\u001b[0m\u001b[0m\n\u001b[1;32m    176\u001b[0m             \u001b[0mcreate_tokenizer\u001b[0m \u001b[0;34m=\u001b[0m \u001b[0mregistry\u001b[0m\u001b[0;34m.\u001b[0m\u001b[0mresolve\u001b[0m\u001b[0;34m(\u001b[0m\u001b[0mtokenizer_cfg\u001b[0m\u001b[0;34m)\u001b[0m\u001b[0;34m[\u001b[0m\u001b[0;34m\"tokenizer\"\u001b[0m\u001b[0;34m]\u001b[0m\u001b[0;34m\u001b[0m\u001b[0;34m\u001b[0m\u001b[0m\n\u001b[0;32m--> 177\u001b[0;31m         \u001b[0mself\u001b[0m\u001b[0;34m.\u001b[0m\u001b[0mtokenizer\u001b[0m \u001b[0;34m=\u001b[0m \u001b[0mcreate_tokenizer\u001b[0m\u001b[0;34m(\u001b[0m\u001b[0mself\u001b[0m\u001b[0;34m)\u001b[0m\u001b[0;34m\u001b[0m\u001b[0;34m\u001b[0m\u001b[0m\n\u001b[0m\u001b[1;32m    178\u001b[0m         \u001b[0mself\u001b[0m\u001b[0;34m.\u001b[0m\u001b[0mbatch_size\u001b[0m \u001b[0;34m=\u001b[0m \u001b[0mbatch_size\u001b[0m\u001b[0;34m\u001b[0m\u001b[0;34m\u001b[0m\u001b[0m\n\u001b[1;32m    179\u001b[0m         \u001b[0mself\u001b[0m\u001b[0;34m.\u001b[0m\u001b[0mdefault_error_handler\u001b[0m \u001b[0;34m=\u001b[0m \u001b[0mraise_error\u001b[0m\u001b[0;34m\u001b[0m\u001b[0;34m\u001b[0m\u001b[0m\n",
      "\u001b[0;32m~/.local/share/virtualenvs/prospector-C4A5icFp/lib/python3.8/site-packages/spacy/language.py\u001b[0m in \u001b[0;36mtokenizer_factory\u001b[0;34m(nlp)\u001b[0m\n\u001b[1;32m     77\u001b[0m         \u001b[0msuffix_search\u001b[0m \u001b[0;34m=\u001b[0m \u001b[0mutil\u001b[0m\u001b[0;34m.\u001b[0m\u001b[0mcompile_suffix_regex\u001b[0m\u001b[0;34m(\u001b[0m\u001b[0msuffixes\u001b[0m\u001b[0;34m)\u001b[0m\u001b[0;34m.\u001b[0m\u001b[0msearch\u001b[0m \u001b[0;32mif\u001b[0m \u001b[0msuffixes\u001b[0m \u001b[0;32melse\u001b[0m \u001b[0;32mNone\u001b[0m\u001b[0;34m\u001b[0m\u001b[0;34m\u001b[0m\u001b[0m\n\u001b[1;32m     78\u001b[0m         \u001b[0minfix_finditer\u001b[0m \u001b[0;34m=\u001b[0m \u001b[0mutil\u001b[0m\u001b[0;34m.\u001b[0m\u001b[0mcompile_infix_regex\u001b[0m\u001b[0;34m(\u001b[0m\u001b[0minfixes\u001b[0m\u001b[0;34m)\u001b[0m\u001b[0;34m.\u001b[0m\u001b[0mfinditer\u001b[0m \u001b[0;32mif\u001b[0m \u001b[0minfixes\u001b[0m \u001b[0;32melse\u001b[0m \u001b[0;32mNone\u001b[0m\u001b[0;34m\u001b[0m\u001b[0;34m\u001b[0m\u001b[0m\n\u001b[0;32m---> 79\u001b[0;31m         return Tokenizer(\n\u001b[0m\u001b[1;32m     80\u001b[0m             \u001b[0mnlp\u001b[0m\u001b[0;34m.\u001b[0m\u001b[0mvocab\u001b[0m\u001b[0;34m,\u001b[0m\u001b[0;34m\u001b[0m\u001b[0;34m\u001b[0m\u001b[0m\n\u001b[1;32m     81\u001b[0m             \u001b[0mrules\u001b[0m\u001b[0;34m=\u001b[0m\u001b[0mnlp\u001b[0m\u001b[0;34m.\u001b[0m\u001b[0mDefaults\u001b[0m\u001b[0;34m.\u001b[0m\u001b[0mtokenizer_exceptions\u001b[0m\u001b[0;34m,\u001b[0m\u001b[0;34m\u001b[0m\u001b[0;34m\u001b[0m\u001b[0m\n",
      "\u001b[0;32m~/.local/share/virtualenvs/prospector-C4A5icFp/lib/python3.8/site-packages/spacy/tokenizer.pyx\u001b[0m in \u001b[0;36mspacy.tokenizer.Tokenizer.__init__\u001b[0;34m()\u001b[0m\n",
      "\u001b[0;32m~/.local/share/virtualenvs/prospector-C4A5icFp/lib/python3.8/site-packages/spacy/tokenizer.pyx\u001b[0m in \u001b[0;36mspacy.tokenizer.Tokenizer._load_special_cases\u001b[0;34m()\u001b[0m\n",
      "\u001b[0;32m~/.local/share/virtualenvs/prospector-C4A5icFp/lib/python3.8/site-packages/spacy/tokenizer.pyx\u001b[0m in \u001b[0;36mspacy.tokenizer.Tokenizer.add_special_case\u001b[0;34m()\u001b[0m\n",
      "\u001b[0;32m~/.local/share/virtualenvs/prospector-C4A5icFp/lib/python3.8/site-packages/spacy/tokenizer.pyx\u001b[0m in \u001b[0;36mspacy.tokenizer.Tokenizer._tokenize_affixes\u001b[0;34m()\u001b[0m\n",
      "\u001b[0;32m~/.local/share/virtualenvs/prospector-C4A5icFp/lib/python3.8/site-packages/spacy/tokens/doc.pyx\u001b[0m in \u001b[0;36mspacy.tokens.doc.Doc.__init__\u001b[0;34m()\u001b[0m\n",
      "\u001b[0;32m~/.local/share/virtualenvs/prospector-C4A5icFp/lib/python3.8/site-packages/spacy/tokens/_dict_proxies.py\u001b[0m in \u001b[0;36m__init__\u001b[0;34m(self, doc, items)\u001b[0m\n\u001b[1;32m     19\u001b[0m     \u001b[0;34m\"\"\"A dict-like proxy held by the Doc, to control access to span groups.\"\"\"\u001b[0m\u001b[0;34m\u001b[0m\u001b[0;34m\u001b[0m\u001b[0m\n\u001b[1;32m     20\u001b[0m \u001b[0;34m\u001b[0m\u001b[0m\n\u001b[0;32m---> 21\u001b[0;31m     def __init__(\n\u001b[0m\u001b[1;32m     22\u001b[0m         \u001b[0mself\u001b[0m\u001b[0;34m,\u001b[0m \u001b[0mdoc\u001b[0m\u001b[0;34m:\u001b[0m \u001b[0;34m\"Doc\"\u001b[0m\u001b[0;34m,\u001b[0m \u001b[0mitems\u001b[0m\u001b[0;34m:\u001b[0m \u001b[0mIterable\u001b[0m\u001b[0;34m[\u001b[0m\u001b[0mTuple\u001b[0m\u001b[0;34m[\u001b[0m\u001b[0mstr\u001b[0m\u001b[0;34m,\u001b[0m \u001b[0mSpanGroup\u001b[0m\u001b[0;34m]\u001b[0m\u001b[0;34m]\u001b[0m \u001b[0;34m=\u001b[0m \u001b[0mtuple\u001b[0m\u001b[0;34m(\u001b[0m\u001b[0;34m)\u001b[0m\u001b[0;34m\u001b[0m\u001b[0;34m\u001b[0m\u001b[0m\n\u001b[1;32m     23\u001b[0m     ) -> None:\n",
      "\u001b[0;31mKeyboardInterrupt\u001b[0m: "
     ]
    }
   ],
   "metadata": {}
  },
  {
   "cell_type": "code",
   "execution_count": null,
   "source": [
    "count"
   ],
   "outputs": [],
   "metadata": {}
  }
 ],
 "metadata": {
  "orig_nbformat": 4,
  "language_info": {
   "name": "python",
   "version": "3.8.0",
   "mimetype": "text/x-python",
   "codemirror_mode": {
    "name": "ipython",
    "version": 3
   },
   "pygments_lexer": "ipython3",
   "nbconvert_exporter": "python",
   "file_extension": ".py"
  },
  "kernelspec": {
   "name": "python3",
   "display_name": "Python 3.8.0 64-bit ('prospector-C4A5icFp': pipenv)"
  },
  "interpreter": {
   "hash": "b8eed6375e759212d21dcc1b7f30a6ef0ccc73330010cc5f59ec648ae8c820df"
  }
 },
 "nbformat": 4,
 "nbformat_minor": 2
}
